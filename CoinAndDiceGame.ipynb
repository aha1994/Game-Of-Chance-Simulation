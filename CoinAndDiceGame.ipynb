{
 "cells": [
  {
   "cell_type": "markdown",
   "id": "5f01d008-deca-4549-8e2c-d4b8931772d5",
   "metadata": {
    "id": "5f01d008-deca-4549-8e2c-d4b8931772d5",
    "tags": []
   },
   "source": [
    "### Team 191 ISYE6644 Project - A Dice and Coin Game\n",
    "\n",
    "Another game. There are two players, A and B. At the beginning of the game, each starts with 4 coins, and there are 2 coins in the pot. A goes first,\n",
    "then B, then A. . . . During a particular player’s turn, the player tosses a 6-sided\n",
    "die. If the player rolls a:\n",
    "\n",
    "\n",
    "<ul>\n",
    "  <li>1, then the player does nothing.</li>\n",
    "  <li>2: then the player takes all coins in the pot.</li>\n",
    "  <li>3: then the player takes half of the coins in the pot (rounded down).</li>\n",
    "  <li>4,5,6: then the player puts a coin in the pot.</li>\n",
    "</ul>\n",
    "\n",
    "\n",
    "A player loses (and the game is over) if they are unable to perform the task (i.e., if they have 0 coins and need to place one in the pot). We define a cycle as A and then B completing their turns. The exception is if a player goes out; that is the final cycle (but it still counts as the last cycle). We are trying to determine the expected number (and maybe even the distribution) of cycles the game will last for. I’m guessing that you can use “first-step” analysis to get the expected value. Simulation seems the easiest thing to do to get the entire distribution."
   ]
  },
  {
   "cell_type": "code",
   "execution_count": 1,
   "id": "59ec274f-1cf1-4c2c-a07c-dcf1cb07e2eb",
   "metadata": {
    "executionInfo": {
     "elapsed": 1823,
     "status": "ok",
     "timestamp": 1690147844356,
     "user": {
      "displayName": "Alexandra Keamy",
      "userId": "01431779461717340770"
     },
     "user_tz": 420
    },
    "id": "59ec274f-1cf1-4c2c-a07c-dcf1cb07e2eb"
   },
   "outputs": [],
   "source": [
    "# dependencies\n",
    "import random\n",
    "import math\n",
    "import statistics as stats\n",
    "from collections import Counter\n",
    "import matplotlib.pyplot as plt\n",
    "import pandas as pd\n",
    "import scipy.stats\n",
    "from statsmodels.sandbox.stats.runs import runstest_1samp"
   ]
  },
  {
   "cell_type": "code",
   "execution_count": 2,
   "id": "7fde6a79-5f10-4c00-9e95-13e0fbb63edd",
   "metadata": {
    "colab": {
     "base_uri": "https://localhost:8080/",
     "height": 472
    },
    "executionInfo": {
     "elapsed": 701,
     "status": "ok",
     "timestamp": 1690147845054,
     "user": {
      "displayName": "Alexandra Keamy",
      "userId": "01431779461717340770"
     },
     "user_tz": 420
    },
    "id": "7fde6a79-5f10-4c00-9e95-13e0fbb63edd",
    "outputId": "d21981e4-08d0-4b69-f85c-048a62eb389d"
   },
   "outputs": [
    {
     "data": {
      "image/png": "[encoded data removed]",
      "text/plain": [
       "<Figure size 640x480 with 1 Axes>"
      ]
     },
     "metadata": {},
     "output_type": "display_data"
    }
   ],
   "source": [
    "# verifying the random number generator we use works as expected\n",
    "random.seed(6644)\n",
    "\n",
    "num_rolls = 100000\n",
    "simulated_dice_rolls = []\n",
    "\n",
    "for _ in range(num_rolls):\n",
    "    simulated_dice_rolls.append(random.randint(1,6))\n",
    "\n",
    "counts = dict(Counter(simulated_dice_rolls))\n",
    "\n",
    "plt.rcParams['axes.facecolor'] = 'lightgrey'\n",
    "plt.bar(counts.keys(),counts.values(), align='center')\n",
    "plt.title('Is Our Die Fair? 100,000 Simulated Rolls')\n",
    "plt.xlabel('Roll')\n",
    "plt.ylabel('Count')\n",
    "plt.show()"
   ]
  },
  {
   "cell_type": "code",
   "execution_count": 3,
   "id": "e5101bbe-0643-4e37-a2ca-0e17d95e25f6",
   "metadata": {
    "colab": {
     "base_uri": "https://localhost:8080/"
    },
    "executionInfo": {
     "elapsed": 4,
     "status": "ok",
     "timestamp": 1690147845055,
     "user": {
      "displayName": "Alexandra Keamy",
      "userId": "01431779461717340770"
     },
     "user_tz": 420
    },
    "id": "e5101bbe-0643-4e37-a2ca-0e17d95e25f6",
    "outputId": "7c1d6397-a342-464f-96ed-b6566bd9cc10"
   },
   "outputs": [
    {
     "name": "stdout",
     "output_type": "stream",
     "text": [
      "Chi_Squared Null Value: 4.016839999999999\n",
      "Chi_Squared Critical Value: 11.070497693516351\n",
      "Goodness of fit test passes: True\n"
     ]
    }
   ],
   "source": [
    "# Goodness of fit test\n",
    "expected = num_rolls/6\n",
    "chi2_0 = ( ((counts[1] - expected)**2) + ((counts[2] - expected)**2) + ((counts[3] - expected)**2) + ((counts[4] - expected)**2) + ((counts[5] - expected)**2) + ((counts[6] - expected)**2) )/expected\n",
    "chi2_crit = scipy.stats.chi2.ppf(1-.05, df=5)\n",
    "\n",
    "print(f'Chi_Squared Null Value: {chi2_0}')\n",
    "print(f'Chi_Squared Critical Value: {chi2_crit}')\n",
    "print(f'Goodness of fit test passes: {chi2_0 < chi2_crit}')"
   ]
  },
  {
   "cell_type": "code",
   "execution_count": 4,
   "id": "36c33ed7-9f57-403e-88ac-29f9fe7921f2",
   "metadata": {
    "colab": {
     "base_uri": "https://localhost:8080/"
    },
    "executionInfo": {
     "elapsed": 7,
     "status": "ok",
     "timestamp": 1690147845322,
     "user": {
      "displayName": "Alexandra Keamy",
      "userId": "01431779461717340770"
     },
     "user_tz": 420
    },
    "id": "36c33ed7-9f57-403e-88ac-29f9fe7921f2",
    "outputId": "7aa486ba-6ed9-48b0-aa31-4ac14de138c0"
   },
   "outputs": [
    {
     "name": "stdout",
     "output_type": "stream",
     "text": [
      "Runs Test Statistic: 1.1246830261067908\n",
      "Corresponding P-Value: 0.2607233769535342\n",
      "Simulated Dice Rolls Passes Runs Test: True\n"
     ]
    }
   ],
   "source": [
    "# Test of independence\n",
    "alpha_ = 0.05\n",
    "test_stat,p_val = runstest_1samp(simulated_dice_rolls, correction=False)\n",
    "\n",
    "print(f'Runs Test Statistic: {test_stat}')\n",
    "print(f'Corresponding P-Value: {p_val}')\n",
    "print(f'Simulated Dice Rolls Passes Runs Test: {p_val > alpha_}')"
   ]
  },
  {
   "cell_type": "code",
   "execution_count": 6,
   "id": "fa4bd72a-b730-4637-aaa6-0fdd7f2c29ab",
   "metadata": {
    "executionInfo": {
     "elapsed": 5,
     "status": "ok",
     "timestamp": 1690147845322,
     "user": {
      "displayName": "Alexandra Keamy",
      "userId": "01431779461717340770"
     },
     "user_tz": 420
    },
    "id": "fa4bd72a-b730-4637-aaa6-0fdd7f2c29ab"
   },
   "outputs": [],
   "source": [
    "# Game parameters/initial conditions\n",
    "player_starting_coins = 4\n",
    "pot_starting_coins = 2\n",
    "penalty = 1\n",
    "dice_sides = 6\n",
    "penalty_rolls = [4,5,6]"
   ]
  },
  {
   "cell_type": "code",
   "execution_count": 7,
   "id": "a1d71ac9-d816-47ad-92b3-69b71213970b",
   "metadata": {
    "colab": {
     "base_uri": "https://localhost:8080/"
    },
    "executionInfo": {
     "elapsed": 5,
     "status": "ok",
     "timestamp": 1690147845322,
     "user": {
      "displayName": "Alexandra Keamy",
      "userId": "01431779461717340770"
     },
     "user_tz": 420
    },
    "id": "a1d71ac9-d816-47ad-92b3-69b71213970b",
    "outputId": "d16e8170-11ed-442a-d45a-b36722079547"
   },
   "outputs": [
    {
     "name": "stdout",
     "output_type": "stream",
     "text": [
      "________________________________________\n",
      "Turn: 1\n",
      "Pot Size: 2 coins\n",
      "Player A Coins:4\n",
      "Player B Coins:4\n",
      " \n",
      "Player A rolled a: 4\n",
      "Player A loses 1 coin!\n",
      " \n",
      "Player B rolled a: 5\n",
      "Player B loses 1 coin!\n",
      " \n",
      "Turn end results:\n",
      "Pot Size: 4 coins\n",
      "Player A Coins:3\n",
      "Player B Coins:3\n",
      "________________________________________\n",
      "Turn: 2\n",
      "Pot Size: 4 coins\n",
      "Player A Coins:3\n",
      "Player B Coins:3\n",
      " \n",
      "Player A rolled a: 6\n",
      "Player A loses 1 coin!\n",
      " \n",
      "Player B rolled a: 4\n",
      "Player B loses 1 coin!\n",
      " \n",
      "Turn end results:\n",
      "Pot Size: 6 coins\n",
      "Player A Coins:2\n",
      "Player B Coins:2\n",
      "________________________________________\n",
      "Turn: 3\n",
      "Pot Size: 6 coins\n",
      "Player A Coins:2\n",
      "Player B Coins:2\n",
      " \n",
      "Player A rolled a: 4\n",
      "Player A loses 1 coin!\n",
      " \n",
      "Player B rolled a: 2\n",
      "player B gets the entire pot!\n",
      " \n",
      "Turn end results:\n",
      "Pot Size: 0 coins\n",
      "Player A Coins:1\n",
      "Player B Coins:9\n",
      "________________________________________\n",
      "Turn: 4\n",
      "Pot Size: 0 coins\n",
      "Player A Coins:1\n",
      "Player B Coins:9\n",
      " \n",
      "Player A rolled a: 1\n",
      "Nothing Happens\n",
      " \n",
      "Player B rolled a: 5\n",
      "Player B loses 1 coin!\n",
      " \n",
      "Turn end results:\n",
      "Pot Size: 1 coins\n",
      "Player A Coins:1\n",
      "Player B Coins:8\n",
      "________________________________________\n",
      "Turn: 5\n",
      "Pot Size: 1 coins\n",
      "Player A Coins:1\n",
      "Player B Coins:8\n",
      " \n",
      "Player A rolled a: 6\n",
      "Player A loses 1 coin!\n",
      " \n",
      "Player B rolled a: 3\n",
      "Player B gets half the pot rounded down!\n",
      " \n",
      "Turn end results:\n",
      "Pot Size: 1 coins\n",
      "Player A Coins:0\n",
      "Player B Coins:9\n",
      "________________________________________\n",
      "Turn: 6\n",
      "Pot Size: 1 coins\n",
      "Player A Coins:0\n",
      "Player B Coins:9\n",
      " \n",
      "Player A rolled a: 5\n",
      "Player A Loses!\n",
      "________________________________________\n"
     ]
    }
   ],
   "source": [
    "# A single simulation with printed output to verify the simulation works\n",
    "random.seed(6644)\n",
    "# game variables\n",
    "turn = 1\n",
    "player_A_coins = player_starting_coins\n",
    "player_B_coins = player_starting_coins\n",
    "pot_coins = pot_starting_coins\n",
    "\n",
    "print('________________________________________')\n",
    "while True:\n",
    "\n",
    "    # print current standings\n",
    "    print(f'Turn: {turn}')\n",
    "    print(f'Pot Size: {pot_coins} coins')\n",
    "    print(f'Player A Coins:{player_A_coins}')\n",
    "    print(f'Player B Coins:{player_B_coins}')\n",
    "    print(' ')\n",
    "\n",
    "    # roll a new value for this turn for each player\n",
    "    new_roll_player_A = random.randint(1, dice_sides)\n",
    "    new_roll_player_B = random.randint(1, dice_sides)\n",
    "\n",
    "    # handle player A's roll first\n",
    "    print(f'Player A rolled a: {new_roll_player_A}')\n",
    "    if new_roll_player_A in penalty_rolls:\n",
    "\n",
    "        # if player A rolls a 4,5,6 and has zero coins, update our turn counter, add B as the winner, end the game\n",
    "        if player_A_coins == 0:\n",
    "            print('Player A Loses!')\n",
    "            break\n",
    "\n",
    "        else:\n",
    "            print('Player A loses 1 coin!')\n",
    "            player_A_coins -= penalty\n",
    "            pot_coins += penalty\n",
    "\n",
    "    elif new_roll_player_A == 2:\n",
    "        # player A gains all the pot coins, pot goes to 0\n",
    "        print('player A gets the entire pot!')\n",
    "        player_A_coins += pot_coins\n",
    "        pot_coins = 0\n",
    "\n",
    "    elif new_roll_player_A == 3:\n",
    "        # player A gains half the coins in the pot\n",
    "        print('Player A gets half the pot rounded down!')\n",
    "        half_pot = math.floor((pot_coins/2))\n",
    "        player_A_coins += half_pot\n",
    "        pot_coins -= half_pot\n",
    "    else:\n",
    "        # nothing happens if the roll is a 1\n",
    "        print('Nothing Happens')\n",
    "        pass\n",
    "\n",
    "\n",
    "    print(' ')\n",
    "    # handle player B's roll second\n",
    "    print(f'Player B rolled a: {new_roll_player_B}')\n",
    "    if new_roll_player_B in penalty_rolls:\n",
    "\n",
    "        # if player B rolls a 4,5,6 and has zero coins, update our turn counter, add B as the winner, end the game\n",
    "        if player_B_coins == 0:\n",
    "            print('Player B Loses!')\n",
    "            break\n",
    "\n",
    "        else:\n",
    "            print('Player B loses 1 coin!')\n",
    "            player_B_coins -= penalty\n",
    "            pot_coins += penalty\n",
    "\n",
    "    elif new_roll_player_B == 2:\n",
    "        # player A gains all the pot coins, pot goes to 0\n",
    "        print('player B gets the entire pot!')\n",
    "        player_B_coins += pot_coins\n",
    "        pot_coins = 0\n",
    "\n",
    "    elif new_roll_player_B == 3:\n",
    "        # player B gains half the coins in the pot\n",
    "        print('Player B gets half the pot rounded down!')\n",
    "        half_pot = math.floor((pot_coins/2))\n",
    "        player_B_coins += half_pot\n",
    "        pot_coins -= half_pot\n",
    "    else:\n",
    "        # nothing happens if the roll is a 1\n",
    "        print('Nothing Happens')\n",
    "        pass\n",
    "\n",
    "    # increment turn\n",
    "    turn += 1\n",
    "\n",
    "    print(' ')\n",
    "    print('Turn end results:')\n",
    "    print(f'Pot Size: {pot_coins} coins')\n",
    "    print(f'Player A Coins:{player_A_coins}')\n",
    "    print(f'Player B Coins:{player_B_coins}')\n",
    "\n",
    "    print('________________________________________')\n",
    "\n",
    "print('________________________________________')\n"
   ]
  },
  {
   "cell_type": "code",
   "execution_count": 8,
   "id": "90b0511b-f833-4078-9a05-3f6c0e050344",
   "metadata": {
    "executionInfo": {
     "elapsed": 723540,
     "status": "ok",
     "timestamp": 1690148568859,
     "user": {
      "displayName": "Alexandra Keamy",
      "userId": "01431779461717340770"
     },
     "user_tz": 420
    },
    "id": "90b0511b-f833-4078-9a05-3f6c0e050344"
   },
   "outputs": [],
   "source": [
    "# running the simulation many times\n",
    "number_of_sims = 1_000_000\n",
    "\n",
    "# setting seed for reproducibility\n",
    "random.seed(6644)\n",
    "\n",
    "# running results lists\n",
    "number_of_turns = []\n",
    "winner = []\n",
    "\n",
    "for _ in range(number_of_sims):\n",
    "    # game variables\n",
    "    turn = 1\n",
    "    player_A_coins = player_starting_coins\n",
    "    player_B_coins = player_starting_coins\n",
    "    pot_coins = pot_starting_coins\n",
    "\n",
    "    while True:\n",
    "        # roll a new value for this turn for each player\n",
    "        new_roll_player_A = random.randint(1, dice_sides)\n",
    "        new_roll_player_B = random.randint(1, dice_sides)\n",
    "\n",
    "        # handle player A's roll first\n",
    "        if new_roll_player_A in penalty_rolls:\n",
    "\n",
    "            # if player A rolls a 4,5,6 and has zero coins, update our turn counter, add B as the winner, end the game\n",
    "            if player_A_coins == 0:\n",
    "                number_of_turns.append(turn)\n",
    "                winner.append('B')\n",
    "                break\n",
    "\n",
    "            else:\n",
    "                player_A_coins -= penalty\n",
    "                pot_coins += penalty\n",
    "\n",
    "        elif new_roll_player_A == 2:\n",
    "            # player A gains all the pot coins, pot goes to 0\n",
    "            player_A_coins += pot_coins\n",
    "            pot_coins = 0\n",
    "\n",
    "        elif new_roll_player_A == 3:\n",
    "            # player A gains half the coins in the pot\n",
    "            half_pot = math.floor((pot_coins/2))\n",
    "            player_A_coins += half_pot\n",
    "            pot_coins -= half_pot\n",
    "        else:\n",
    "            # nothing happens if the roll is a 1\n",
    "            pass\n",
    "\n",
    "        # handle player B's roll second\n",
    "        if new_roll_player_B in penalty_rolls:\n",
    "\n",
    "            # if player B rolls a 4,5,6 and has zero coins, update our turn counter, add B as the winner, end the game\n",
    "            if player_B_coins == 0:\n",
    "                number_of_turns.append(turn)\n",
    "                winner.append('A')\n",
    "                break\n",
    "\n",
    "            else:\n",
    "                player_B_coins -= penalty\n",
    "                pot_coins += penalty\n",
    "\n",
    "        elif new_roll_player_B == 2:\n",
    "            # player A gains all the pot coins, pot goes to 0\n",
    "            player_B_coins += pot_coins\n",
    "            pot_coins = 0\n",
    "\n",
    "        elif new_roll_player_B == 3:\n",
    "            # player B gains half the coins in the pot\n",
    "            half_pot = math.floor((pot_coins/2))\n",
    "            player_B_coins += half_pot\n",
    "            pot_coins -= half_pot\n",
    "        else:\n",
    "            # nothing happens if the roll is a 1\n",
    "            pass\n",
    "\n",
    "        # increment turn\n",
    "        turn += 1\n"
   ]
  },
  {
   "cell_type": "code",
   "execution_count": 9,
   "id": "108993cf-9a03-4003-9ab4-7c5bba946342",
   "metadata": {
    "colab": {
     "base_uri": "https://localhost:8080/",
     "height": 814
    },
    "executionInfo": {
     "elapsed": 10320,
     "status": "ok",
     "timestamp": 1690148579175,
     "user": {
      "displayName": "Alexandra Keamy",
      "userId": "01431779461717340770"
     },
     "user_tz": 420
    },
    "id": "108993cf-9a03-4003-9ab4-7c5bba946342",
    "outputId": "733fb6f1-0cba-4a1c-e59e-53e6aeaa23ce"
   },
   "outputs": [
    {
     "name": "stdout",
     "output_type": "stream",
     "text": [
      "Winner Counts:\n",
      "{'B': 497722, 'A': 502278}\n",
      "\n",
      "Number of Turns Statistics:\n",
      "count    1000000.000000\n",
      "mean          17.514674\n",
      "std           12.754864\n",
      "min            5.000000\n",
      "25%            8.000000\n",
      "50%           14.000000\n",
      "75%           22.000000\n",
      "max          177.000000\n",
      "dtype: float64\n",
      "\n"
     ]
    },
    {
     "data": {
      "image/png": "[encoded data removed]",
      "text/plain": [
       "<Figure size 900x600 with 1 Axes>"
      ]
     },
     "metadata": {},
     "output_type": "display_data"
    }
   ],
   "source": [
    "# statistics on the winner\n",
    "print('Winner Counts:')\n",
    "print(dict(Counter(winner)))\n",
    "print()\n",
    "\n",
    "# statistics on the number of turns\n",
    "turns_series = pd.Series(number_of_turns)\n",
    "print('Number of Turns Statistics:')\n",
    "print(turns_series.describe())\n",
    "print()\n",
    "\n",
    "# Visualizing the distribution with matplotlib\n",
    "plt.figure(figsize=(9,6))\n",
    "plt.xlim(turns_series.min() - 1, turns_series.max() + 1)\n",
    "plt.hist(number_of_turns, bins= turns_series.max() - turns_series.min())\n",
    "plt.title('Distribution of the Number of Turns to Complete the Game')\n",
    "plt.xlabel('Number of Turns')\n",
    "plt.ylabel('Count')\n",
    "plt.text(turns_series.max()*0.55, turns_series.value_counts().values[0] * 0.95, f\"Starting Coins Per Player: {player_starting_coins}\")\n",
    "plt.text(turns_series.max()*0.55, turns_series.value_counts().values[0] * 0.90, f\"Pot Starting Coins: {pot_starting_coins} \")\n",
    "plt.text(turns_series.max()*0.55, turns_series.value_counts().values[0] * 0.85, f\"Min and Max Number of Turns: {turns_series.min(), turns_series.max()}\")\n",
    "plt.text(turns_series.max()*0.55, turns_series.value_counts().values[0] * 0.80, f\"Most Common Outcome: {turns_series.value_counts().index[0]} Turns\")\n",
    "plt.text(turns_series.max()*0.55, turns_series.value_counts().values[0] * 0.75, f\"Median Number of Turns: {int(turns_series.median())}\")\n",
    "plt.show()"
   ]
  },
  {
   "cell_type": "code",
   "execution_count": 8,
   "id": "efa6d27a-57b4-4bbd-9426-e040291da3fc",
   "metadata": {
    "executionInfo": {
     "elapsed": 5,
     "status": "ok",
     "timestamp": 1690148579176,
     "user": {
      "displayName": "Alexandra Keamy",
      "userId": "01431779461717340770"
     },
     "user_tz": 420
    },
    "id": "efa6d27a-57b4-4bbd-9426-e040291da3fc"
   },
   "outputs": [],
   "source": []
  },
  {
   "cell_type": "code",
   "execution_count": null,
   "id": "5e0b5bdb-9674-4b53-b63e-2232a4035f19",
   "metadata": {
    "id": "5e0b5bdb-9674-4b53-b63e-2232a4035f19"
   },
   "outputs": [],
   "source": []
  },
  {
   "cell_type": "code",
   "execution_count": null,
   "id": "f6bccf85-29e2-4b9d-a1f2-79c035624b6d",
   "metadata": {
    "id": "f6bccf85-29e2-4b9d-a1f2-79c035624b6d"
   },
   "outputs": [],
   "source": []
  },
  {
   "cell_type": "code",
   "execution_count": null,
   "id": "fd4a5f8b-4ff1-419e-9771-df399a171be3",
   "metadata": {
    "id": "fd4a5f8b-4ff1-419e-9771-df399a171be3"
   },
   "outputs": [],
   "source": []
  }
 ],
 "metadata": {
  "colab": {
   "provenance": []
  },
  "kernelspec": {
   "display_name": "Python 3 (ipykernel)",
   "language": "python",
   "name": "python3"
  },
  "language_info": {
   "codemirror_mode": {
    "name": "ipython",
    "version": 3
   },
   "file_extension": ".py",
   "mimetype": "text/x-python",
   "name": "python",
   "nbconvert_exporter": "python",
   "pygments_lexer": "ipython3",
   "version": "3.8.8"
  }
 },
 "nbformat": 4,
 "nbformat_minor": 5
}
